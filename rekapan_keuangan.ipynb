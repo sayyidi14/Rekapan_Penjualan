{
 "cells": [
  {
   "cell_type": "code",
   "execution_count": 8,
   "metadata": {},
   "outputs": [],
   "source": [
    "import pandas as pd"
   ]
  },
  {
   "cell_type": "code",
   "execution_count": 10,
   "metadata": {},
   "outputs": [],
   "source": [
    "df = pd.DataFrame(columns=['Tanggal', 'Omset', 'Pengeluaran Operasional', 'Pengeluaran Non Operasional', 'Keuntungan', \"Piutang\",'Keterangan Piutang'])\n",
    "df.to_excel(\"Laporan Keuangan.xlsx\")"
   ]
  },
  {
   "cell_type": "code",
   "execution_count": 17,
   "metadata": {},
   "outputs": [
    {
     "data": {
      "text/html": [
       "<div>\n",
       "<style scoped>\n",
       "    .dataframe tbody tr th:only-of-type {\n",
       "        vertical-align: middle;\n",
       "    }\n",
       "\n",
       "    .dataframe tbody tr th {\n",
       "        vertical-align: top;\n",
       "    }\n",
       "\n",
       "    .dataframe thead th {\n",
       "        text-align: right;\n",
       "    }\n",
       "</style>\n",
       "<table border=\"1\" class=\"dataframe\">\n",
       "  <thead>\n",
       "    <tr style=\"text-align: right;\">\n",
       "      <th></th>\n",
       "      <th>Tanggal</th>\n",
       "      <th>Omset</th>\n",
       "      <th>Pengeluaran Operasional</th>\n",
       "      <th>Pengeluaran Non Operasional</th>\n",
       "      <th>Keuntungan</th>\n",
       "      <th>Piutang</th>\n",
       "      <th>Keterangan Piutang</th>\n",
       "    </tr>\n",
       "  </thead>\n",
       "  <tbody>\n",
       "    <tr>\n",
       "      <th>0</th>\n",
       "      <td>2024-03-20</td>\n",
       "      <td>0</td>\n",
       "      <td>0</td>\n",
       "      <td>0</td>\n",
       "      <td>0</td>\n",
       "      <td>0</td>\n",
       "      <td>das</td>\n",
       "    </tr>\n",
       "    <tr>\n",
       "      <th>1</th>\n",
       "      <td>2024-03-20</td>\n",
       "      <td>0</td>\n",
       "      <td>0</td>\n",
       "      <td>0</td>\n",
       "      <td>1000</td>\n",
       "      <td>100</td>\n",
       "      <td>das</td>\n",
       "    </tr>\n",
       "    <tr>\n",
       "      <th>2</th>\n",
       "      <td>2024-03-20</td>\n",
       "      <td>300000</td>\n",
       "      <td>10000</td>\n",
       "      <td>20000</td>\n",
       "      <td>150000</td>\n",
       "      <td>4000</td>\n",
       "      <td>beli sayur</td>\n",
       "    </tr>\n",
       "  </tbody>\n",
       "</table>\n",
       "</div>"
      ],
      "text/plain": [
       "     Tanggal   Omset  Pengeluaran Operasional  Pengeluaran Non Operasional  \\\n",
       "0 2024-03-20       0                        0                            0   \n",
       "1 2024-03-20       0                        0                            0   \n",
       "2 2024-03-20  300000                    10000                        20000   \n",
       "\n",
       "   Keuntungan  Piutang Keterangan Piutang  \n",
       "0           0        0                das  \n",
       "1        1000      100                das  \n",
       "2      150000     4000         beli sayur  "
      ]
     },
     "execution_count": 17,
     "metadata": {},
     "output_type": "execute_result"
    }
   ],
   "source": [
    "df = pd.read_excel(\"Laporan Keuangan.xlsx\")\n",
    "df"
   ]
  },
  {
   "cell_type": "code",
   "execution_count": 16,
   "metadata": {},
   "outputs": [
    {
     "data": {
      "text/html": [
       "<div>\n",
       "<style scoped>\n",
       "    .dataframe tbody tr th:only-of-type {\n",
       "        vertical-align: middle;\n",
       "    }\n",
       "\n",
       "    .dataframe tbody tr th {\n",
       "        vertical-align: top;\n",
       "    }\n",
       "\n",
       "    .dataframe thead th {\n",
       "        text-align: right;\n",
       "    }\n",
       "</style>\n",
       "<table border=\"1\" class=\"dataframe\">\n",
       "  <thead>\n",
       "    <tr style=\"text-align: right;\">\n",
       "      <th></th>\n",
       "      <th>Tanggal</th>\n",
       "      <th>Omset</th>\n",
       "      <th>Pengeluaran Operasional</th>\n",
       "      <th>Pengeluaran Non Operasional</th>\n",
       "      <th>Keuntungan</th>\n",
       "      <th>Piutang</th>\n",
       "      <th>Keterangan Piutang</th>\n",
       "      <th>laba_kotor</th>\n",
       "    </tr>\n",
       "  </thead>\n",
       "  <tbody>\n",
       "    <tr>\n",
       "      <th>0</th>\n",
       "      <td>2024-03-20</td>\n",
       "      <td>0</td>\n",
       "      <td>0</td>\n",
       "      <td>0</td>\n",
       "      <td>0</td>\n",
       "      <td>0</td>\n",
       "      <td>das</td>\n",
       "      <td>0</td>\n",
       "    </tr>\n",
       "    <tr>\n",
       "      <th>1</th>\n",
       "      <td>2024-03-20</td>\n",
       "      <td>0</td>\n",
       "      <td>0</td>\n",
       "      <td>0</td>\n",
       "      <td>1000</td>\n",
       "      <td>100</td>\n",
       "      <td>das</td>\n",
       "      <td>0</td>\n",
       "    </tr>\n",
       "    <tr>\n",
       "      <th>2</th>\n",
       "      <td>2024-03-20</td>\n",
       "      <td>300000</td>\n",
       "      <td>10000</td>\n",
       "      <td>20000</td>\n",
       "      <td>150000</td>\n",
       "      <td>4000</td>\n",
       "      <td>beli sayur</td>\n",
       "      <td>270000</td>\n",
       "    </tr>\n",
       "  </tbody>\n",
       "</table>\n",
       "</div>"
      ],
      "text/plain": [
       "     Tanggal   Omset  Pengeluaran Operasional  Pengeluaran Non Operasional  \\\n",
       "0 2024-03-20       0                        0                            0   \n",
       "1 2024-03-20       0                        0                            0   \n",
       "2 2024-03-20  300000                    10000                        20000   \n",
       "\n",
       "   Keuntungan  Piutang Keterangan Piutang  laba_kotor  \n",
       "0           0        0                das           0  \n",
       "1        1000      100                das           0  \n",
       "2      150000     4000         beli sayur      270000  "
      ]
     },
     "execution_count": 16,
     "metadata": {},
     "output_type": "execute_result"
    }
   ],
   "source": [
    "df['Laba Kotor'] = df[\"Omset\"] - df[\"Pengeluaran Operasional\"] - df[\"Pengeluaran Non Operasional\"] \n",
    "df[\"Laba Bersih\"] = df[\"Laba Kotor\"] + df[\"Keuntungan\"]"
   ]
  },
  {
   "cell_type": "code",
   "execution_count": null,
   "metadata": {},
   "outputs": [],
   "source": []
  }
 ],
 "metadata": {
  "kernelspec": {
   "display_name": "Python 3",
   "language": "python",
   "name": "python3"
  },
  "language_info": {
   "codemirror_mode": {
    "name": "ipython",
    "version": 3
   },
   "file_extension": ".py",
   "mimetype": "text/x-python",
   "name": "python",
   "nbconvert_exporter": "python",
   "pygments_lexer": "ipython3",
   "version": "3.9.13"
  }
 },
 "nbformat": 4,
 "nbformat_minor": 2
}
